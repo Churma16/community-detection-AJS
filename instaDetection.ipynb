{
 "cells": [
  {
   "cell_type": "code",
   "execution_count": 15,
   "metadata": {},
   "outputs": [],
   "source": [
    "from instagram_private_api import Client, ClientCompatPatch\n"
   ]
  },
  {
   "cell_type": "code",
   "execution_count": 16,
   "metadata": {},
   "outputs": [
    {
     "ename": "ClientLoginError",
     "evalue": "bad_password",
     "output_type": "error",
     "traceback": [
      "\u001b[1;31m---------------------------------------------------------------------------\u001b[0m",
      "\u001b[1;31mHTTPError\u001b[0m                                 Traceback (most recent call last)",
      "File \u001b[1;32mc:\\Users\\ASUS\\AppData\\Local\\Programs\\Python\\Python311\\Lib\\site-packages\\instagram_private_api\\client.py:523\u001b[0m, in \u001b[0;36mClient._call_api\u001b[1;34m(self, endpoint, params, query, return_response, unsigned, version)\u001b[0m\n\u001b[0;32m    522\u001b[0m     \u001b[39mself\u001b[39m\u001b[39m.\u001b[39mlogger\u001b[39m.\u001b[39mdebug(\u001b[39m'\u001b[39m\u001b[39mDATA: \u001b[39m\u001b[39m{0!s}\u001b[39;00m\u001b[39m'\u001b[39m\u001b[39m.\u001b[39mformat(data))\n\u001b[1;32m--> 523\u001b[0m     response \u001b[39m=\u001b[39m \u001b[39mself\u001b[39;49m\u001b[39m.\u001b[39;49mopener\u001b[39m.\u001b[39;49mopen(req, timeout\u001b[39m=\u001b[39;49m\u001b[39mself\u001b[39;49m\u001b[39m.\u001b[39;49mtimeout)\n\u001b[0;32m    524\u001b[0m \u001b[39mexcept\u001b[39;00m compat_urllib_error\u001b[39m.\u001b[39mHTTPError \u001b[39mas\u001b[39;00m e:\n",
      "File \u001b[1;32mc:\\Users\\ASUS\\AppData\\Local\\Programs\\Python\\Python311\\Lib\\urllib\\request.py:525\u001b[0m, in \u001b[0;36mOpenerDirector.open\u001b[1;34m(self, fullurl, data, timeout)\u001b[0m\n\u001b[0;32m    524\u001b[0m     meth \u001b[39m=\u001b[39m \u001b[39mgetattr\u001b[39m(processor, meth_name)\n\u001b[1;32m--> 525\u001b[0m     response \u001b[39m=\u001b[39m meth(req, response)\n\u001b[0;32m    527\u001b[0m \u001b[39mreturn\u001b[39;00m response\n",
      "File \u001b[1;32mc:\\Users\\ASUS\\AppData\\Local\\Programs\\Python\\Python311\\Lib\\urllib\\request.py:634\u001b[0m, in \u001b[0;36mHTTPErrorProcessor.http_response\u001b[1;34m(self, request, response)\u001b[0m\n\u001b[0;32m    633\u001b[0m \u001b[39mif\u001b[39;00m \u001b[39mnot\u001b[39;00m (\u001b[39m200\u001b[39m \u001b[39m<\u001b[39m\u001b[39m=\u001b[39m code \u001b[39m<\u001b[39m \u001b[39m300\u001b[39m):\n\u001b[1;32m--> 634\u001b[0m     response \u001b[39m=\u001b[39m \u001b[39mself\u001b[39;49m\u001b[39m.\u001b[39;49mparent\u001b[39m.\u001b[39;49merror(\n\u001b[0;32m    635\u001b[0m         \u001b[39m'\u001b[39;49m\u001b[39mhttp\u001b[39;49m\u001b[39m'\u001b[39;49m, request, response, code, msg, hdrs)\n\u001b[0;32m    637\u001b[0m \u001b[39mreturn\u001b[39;00m response\n",
      "File \u001b[1;32mc:\\Users\\ASUS\\AppData\\Local\\Programs\\Python\\Python311\\Lib\\urllib\\request.py:563\u001b[0m, in \u001b[0;36mOpenerDirector.error\u001b[1;34m(self, proto, *args)\u001b[0m\n\u001b[0;32m    562\u001b[0m args \u001b[39m=\u001b[39m (\u001b[39mdict\u001b[39m, \u001b[39m'\u001b[39m\u001b[39mdefault\u001b[39m\u001b[39m'\u001b[39m, \u001b[39m'\u001b[39m\u001b[39mhttp_error_default\u001b[39m\u001b[39m'\u001b[39m) \u001b[39m+\u001b[39m orig_args\n\u001b[1;32m--> 563\u001b[0m \u001b[39mreturn\u001b[39;00m \u001b[39mself\u001b[39;49m\u001b[39m.\u001b[39;49m_call_chain(\u001b[39m*\u001b[39;49margs)\n",
      "File \u001b[1;32mc:\\Users\\ASUS\\AppData\\Local\\Programs\\Python\\Python311\\Lib\\urllib\\request.py:496\u001b[0m, in \u001b[0;36mOpenerDirector._call_chain\u001b[1;34m(self, chain, kind, meth_name, *args)\u001b[0m\n\u001b[0;32m    495\u001b[0m func \u001b[39m=\u001b[39m \u001b[39mgetattr\u001b[39m(handler, meth_name)\n\u001b[1;32m--> 496\u001b[0m result \u001b[39m=\u001b[39m func(\u001b[39m*\u001b[39;49margs)\n\u001b[0;32m    497\u001b[0m \u001b[39mif\u001b[39;00m result \u001b[39mis\u001b[39;00m \u001b[39mnot\u001b[39;00m \u001b[39mNone\u001b[39;00m:\n",
      "File \u001b[1;32mc:\\Users\\ASUS\\AppData\\Local\\Programs\\Python\\Python311\\Lib\\urllib\\request.py:643\u001b[0m, in \u001b[0;36mHTTPDefaultErrorHandler.http_error_default\u001b[1;34m(self, req, fp, code, msg, hdrs)\u001b[0m\n\u001b[0;32m    642\u001b[0m \u001b[39mdef\u001b[39;00m \u001b[39mhttp_error_default\u001b[39m(\u001b[39mself\u001b[39m, req, fp, code, msg, hdrs):\n\u001b[1;32m--> 643\u001b[0m     \u001b[39mraise\u001b[39;00m HTTPError(req\u001b[39m.\u001b[39mfull_url, code, msg, hdrs, fp)\n",
      "\u001b[1;31mHTTPError\u001b[0m: HTTP Error 400: Bad Request",
      "\nDuring handling of the above exception, another exception occurred:\n",
      "\u001b[1;31mClientLoginError\u001b[0m                          Traceback (most recent call last)",
      "\u001b[1;32mc:\\Users\\ASUS\\Documents\\Coding\\Phyton\\AJS\\Community Detection\\instaDetection.ipynb Cell 2\u001b[0m in \u001b[0;36m6\n\u001b[0;32m      <a href='vscode-notebook-cell:/c%3A/Users/ASUS/Documents/Coding/Phyton/AJS/Community%20Detection/instaDetection.ipynb#W0sZmlsZQ%3D%3D?line=2'>3</a>\u001b[0m user_name \u001b[39m=\u001b[39m \u001b[39m'\u001b[39m\u001b[39mtantaaattt\u001b[39m\u001b[39m'\u001b[39m\n\u001b[0;32m      <a href='vscode-notebook-cell:/c%3A/Users/ASUS/Documents/Coding/Phyton/AJS/Community%20Detection/instaDetection.ipynb#W0sZmlsZQ%3D%3D?line=3'>4</a>\u001b[0m password \u001b[39m=\u001b[39m \u001b[39m'\u001b[39m\u001b[39m~Forfunonly16\u001b[39m\u001b[39m'\u001b[39m\n\u001b[1;32m----> <a href='vscode-notebook-cell:/c%3A/Users/ASUS/Documents/Coding/Phyton/AJS/Community%20Detection/instaDetection.ipynb#W0sZmlsZQ%3D%3D?line=5'>6</a>\u001b[0m api \u001b[39m=\u001b[39m Client(user_name, password)\n\u001b[0;32m      <a href='vscode-notebook-cell:/c%3A/Users/ASUS/Documents/Coding/Phyton/AJS/Community%20Detection/instaDetection.ipynb#W0sZmlsZQ%3D%3D?line=6'>7</a>\u001b[0m results \u001b[39m=\u001b[39m api\u001b[39m.\u001b[39mfeed_timeline()\n\u001b[0;32m      <a href='vscode-notebook-cell:/c%3A/Users/ASUS/Documents/Coding/Phyton/AJS/Community%20Detection/instaDetection.ipynb#W0sZmlsZQ%3D%3D?line=7'>8</a>\u001b[0m items \u001b[39m=\u001b[39m results\u001b[39m.\u001b[39mget(\u001b[39m'\u001b[39m\u001b[39mitems\u001b[39m\u001b[39m'\u001b[39m, [])\n",
      "File \u001b[1;32mc:\\Users\\ASUS\\AppData\\Local\\Programs\\Python\\Python311\\Lib\\site-packages\\instagram_private_api\\client.py:208\u001b[0m, in \u001b[0;36mClient.__init__\u001b[1;34m(self, username, password, **kwargs)\u001b[0m\n\u001b[0;32m    206\u001b[0m     \u001b[39mif\u001b[39;00m \u001b[39mnot\u001b[39;00m \u001b[39mself\u001b[39m\u001b[39m.\u001b[39musername \u001b[39mor\u001b[39;00m \u001b[39mnot\u001b[39;00m \u001b[39mself\u001b[39m\u001b[39m.\u001b[39mpassword:\n\u001b[0;32m    207\u001b[0m         \u001b[39mraise\u001b[39;00m ClientLoginRequiredError(\u001b[39m'\u001b[39m\u001b[39mlogin_required\u001b[39m\u001b[39m'\u001b[39m, code\u001b[39m=\u001b[39m\u001b[39m400\u001b[39m)\n\u001b[1;32m--> 208\u001b[0m     \u001b[39mself\u001b[39;49m\u001b[39m.\u001b[39;49mlogin()\n\u001b[0;32m    210\u001b[0m \u001b[39mself\u001b[39m\u001b[39m.\u001b[39mlogger\u001b[39m.\u001b[39mdebug(\u001b[39m'\u001b[39m\u001b[39mUSERAGENT: \u001b[39m\u001b[39m{0!s}\u001b[39;00m\u001b[39m'\u001b[39m\u001b[39m.\u001b[39mformat(\u001b[39mself\u001b[39m\u001b[39m.\u001b[39muser_agent))\n\u001b[0;32m    211\u001b[0m \u001b[39msuper\u001b[39m(Client, \u001b[39mself\u001b[39m)\u001b[39m.\u001b[39m\u001b[39m__init__\u001b[39m()\n",
      "File \u001b[1;32mc:\\Users\\ASUS\\AppData\\Local\\Programs\\Python\\Python311\\Lib\\site-packages\\instagram_private_api\\endpoints\\accounts.py:49\u001b[0m, in \u001b[0;36mAccountsEndpointsMixin.login\u001b[1;34m(self)\u001b[0m\n\u001b[0;32m     34\u001b[0m     \u001b[39mraise\u001b[39;00m ClientError(\n\u001b[0;32m     35\u001b[0m         \u001b[39m'\u001b[39m\u001b[39mUnable to get csrf from prelogin.\u001b[39m\u001b[39m'\u001b[39m,\n\u001b[0;32m     36\u001b[0m         error_response\u001b[39m=\u001b[39m\u001b[39mself\u001b[39m\u001b[39m.\u001b[39m_read_response(prelogin_params))\n\u001b[0;32m     38\u001b[0m login_params \u001b[39m=\u001b[39m {\n\u001b[0;32m     39\u001b[0m     \u001b[39m'\u001b[39m\u001b[39mdevice_id\u001b[39m\u001b[39m'\u001b[39m: \u001b[39mself\u001b[39m\u001b[39m.\u001b[39mdevice_id,\n\u001b[0;32m     40\u001b[0m     \u001b[39m'\u001b[39m\u001b[39mguid\u001b[39m\u001b[39m'\u001b[39m: \u001b[39mself\u001b[39m\u001b[39m.\u001b[39muuid,\n\u001b[1;32m   (...)\u001b[0m\n\u001b[0;32m     46\u001b[0m     \u001b[39m'\u001b[39m\u001b[39mlogin_attempt_count\u001b[39m\u001b[39m'\u001b[39m: \u001b[39m'\u001b[39m\u001b[39m0\u001b[39m\u001b[39m'\u001b[39m,\n\u001b[0;32m     47\u001b[0m }\n\u001b[1;32m---> 49\u001b[0m login_response \u001b[39m=\u001b[39m \u001b[39mself\u001b[39;49m\u001b[39m.\u001b[39;49m_call_api(\n\u001b[0;32m     50\u001b[0m     \u001b[39m'\u001b[39;49m\u001b[39maccounts/login/\u001b[39;49m\u001b[39m'\u001b[39;49m, params\u001b[39m=\u001b[39;49mlogin_params, return_response\u001b[39m=\u001b[39;49m\u001b[39mTrue\u001b[39;49;00m)\n\u001b[0;32m     52\u001b[0m \u001b[39mif\u001b[39;00m \u001b[39mnot\u001b[39;00m \u001b[39mself\u001b[39m\u001b[39m.\u001b[39mcsrftoken:\n\u001b[0;32m     53\u001b[0m     \u001b[39mraise\u001b[39;00m ClientError(\n\u001b[0;32m     54\u001b[0m         \u001b[39m'\u001b[39m\u001b[39mUnable to get csrf from login.\u001b[39m\u001b[39m'\u001b[39m,\n\u001b[0;32m     55\u001b[0m         error_response\u001b[39m=\u001b[39m\u001b[39mself\u001b[39m\u001b[39m.\u001b[39m_read_response(login_response))\n",
      "File \u001b[1;32mc:\\Users\\ASUS\\AppData\\Local\\Programs\\Python\\Python311\\Lib\\site-packages\\instagram_private_api\\client.py:527\u001b[0m, in \u001b[0;36mClient._call_api\u001b[1;34m(self, endpoint, params, query, return_response, unsigned, version)\u001b[0m\n\u001b[0;32m    525\u001b[0m     error_response \u001b[39m=\u001b[39m \u001b[39mself\u001b[39m\u001b[39m.\u001b[39m_read_response(e)\n\u001b[0;32m    526\u001b[0m     \u001b[39mself\u001b[39m\u001b[39m.\u001b[39mlogger\u001b[39m.\u001b[39mdebug(\u001b[39m'\u001b[39m\u001b[39mRESPONSE: \u001b[39m\u001b[39m{0:d}\u001b[39;00m\u001b[39m \u001b[39m\u001b[39m{1!s}\u001b[39;00m\u001b[39m'\u001b[39m\u001b[39m.\u001b[39mformat(e\u001b[39m.\u001b[39mcode, error_response))\n\u001b[1;32m--> 527\u001b[0m     ErrorHandler\u001b[39m.\u001b[39;49mprocess(e, error_response)\n\u001b[0;32m    529\u001b[0m \u001b[39mexcept\u001b[39;00m (SSLError, timeout, SocketError,\n\u001b[0;32m    530\u001b[0m         compat_urllib_error\u001b[39m.\u001b[39mURLError,   \u001b[39m# URLError is base of HTTPError\u001b[39;00m\n\u001b[0;32m    531\u001b[0m         compat_http_client\u001b[39m.\u001b[39mHTTPException,\n\u001b[0;32m    532\u001b[0m         \u001b[39mConnectionError\u001b[39;00m) \u001b[39mas\u001b[39;00m connection_error:\n\u001b[0;32m    533\u001b[0m     \u001b[39mraise\u001b[39;00m ClientConnectionError(\u001b[39m'\u001b[39m\u001b[39m{}\u001b[39;00m\u001b[39m \u001b[39m\u001b[39m{}\u001b[39;00m\u001b[39m'\u001b[39m\u001b[39m.\u001b[39mformat(\n\u001b[0;32m    534\u001b[0m         connection_error\u001b[39m.\u001b[39m\u001b[39m__class__\u001b[39m\u001b[39m.\u001b[39m\u001b[39m__name__\u001b[39m, \u001b[39mstr\u001b[39m(connection_error)))\n",
      "File \u001b[1;32mc:\\Users\\ASUS\\AppData\\Local\\Programs\\Python\\Python311\\Lib\\site-packages\\instagram_private_api\\errors.py:123\u001b[0m, in \u001b[0;36mErrorHandler.process\u001b[1;34m(http_error, error_response)\u001b[0m\n\u001b[0;32m    121\u001b[0m     \u001b[39mfor\u001b[39;00m p \u001b[39min\u001b[39;00m error_info[\u001b[39m'\u001b[39m\u001b[39mpatterns\u001b[39m\u001b[39m'\u001b[39m]:\n\u001b[0;32m    122\u001b[0m         \u001b[39mif\u001b[39;00m re\u001b[39m.\u001b[39msearch(p, error_message_type):\n\u001b[1;32m--> 123\u001b[0m             \u001b[39mraise\u001b[39;00m error_info[\u001b[39m'\u001b[39m\u001b[39merror\u001b[39m\u001b[39m'\u001b[39m](\n\u001b[0;32m    124\u001b[0m                 error_message_type, code\u001b[39m=\u001b[39mhttp_error\u001b[39m.\u001b[39mcode,\n\u001b[0;32m    125\u001b[0m                 error_response\u001b[39m=\u001b[39mjson\u001b[39m.\u001b[39mdumps(error_obj)\n\u001b[0;32m    126\u001b[0m             )\n\u001b[0;32m    127\u001b[0m \u001b[39mif\u001b[39;00m error_message_type:\n\u001b[0;32m    128\u001b[0m     error_msg \u001b[39m=\u001b[39m \u001b[39m'\u001b[39m\u001b[39m{0!s}\u001b[39;00m\u001b[39m: \u001b[39m\u001b[39m{1!s}\u001b[39;00m\u001b[39m'\u001b[39m\u001b[39m.\u001b[39mformat(http_error\u001b[39m.\u001b[39mreason, error_message_type)\n",
      "\u001b[1;31mClientLoginError\u001b[0m: bad_password"
     ]
    }
   ],
   "source": [
    "from instagram_private_api import Client, ClientCompatPatch\n",
    "\n",
    "user_name = 'tantaaattt'\n",
    "password = '~Forfunonly16'\n",
    "\n",
    "api = Client(user_name, password)\n",
    "results = api.feed_timeline()\n",
    "items = results.get('items', [])\n",
    "for item in items:\n",
    "    # Manually patch the entity to match the public api as closely as possible, optional\n",
    "    # To automatically patch entities, initialise the Client with auto_patch=True\n",
    "    ClientCompatPatch.media(item)\n",
    "    print(media['code'])\n"
   ]
  },
  {
   "cell_type": "code",
   "execution_count": 14,
   "metadata": {},
   "outputs": [
    {
     "name": "stdout",
     "output_type": "stream",
     "text": [
      "Code entered \"871356\" for tantaaattt (0 attempts by 5 seconds)\n",
      "Password entered \"Forfunonly16\" for tantaaattt (0 attempts by 5 seconds)\n"
     ]
    },
    {
     "ename": "ChallengeRequired",
     "evalue": "challenge_required",
     "output_type": "error",
     "traceback": [
      "\u001b[1;31m---------------------------------------------------------------------------\u001b[0m",
      "\u001b[1;31mHTTPError\u001b[0m                                 Traceback (most recent call last)",
      "File \u001b[1;32mc:\\Users\\ASUS\\AppData\\Local\\Programs\\Python\\Python311\\Lib\\site-packages\\instagrapi\\mixins\\private.py:360\u001b[0m, in \u001b[0;36mPrivateRequestMixin._send_private_request\u001b[1;34m(self, endpoint, data, params, login, with_signature, headers, extra_sig, domain)\u001b[0m\n\u001b[0;32m    359\u001b[0m \u001b[39mself\u001b[39m\u001b[39m.\u001b[39mlast_response \u001b[39m=\u001b[39m response\n\u001b[1;32m--> 360\u001b[0m response\u001b[39m.\u001b[39;49mraise_for_status()\n\u001b[0;32m    361\u001b[0m \u001b[39m# last_json - for Sentry context in traceback\u001b[39;00m\n",
      "File \u001b[1;32mc:\\Users\\ASUS\\AppData\\Local\\Programs\\Python\\Python311\\Lib\\site-packages\\requests\\models.py:1021\u001b[0m, in \u001b[0;36mResponse.raise_for_status\u001b[1;34m(self)\u001b[0m\n\u001b[0;32m   1020\u001b[0m \u001b[39mif\u001b[39;00m http_error_msg:\n\u001b[1;32m-> 1021\u001b[0m     \u001b[39mraise\u001b[39;00m HTTPError(http_error_msg, response\u001b[39m=\u001b[39m\u001b[39mself\u001b[39m)\n",
      "\u001b[1;31mHTTPError\u001b[0m: 400 Client Error: Bad Request for url: https://i.instagram.com/api/v1/feed/reels_tray/",
      "\nDuring handling of the above exception, another exception occurred:\n",
      "\u001b[1;31mChallengeRequired\u001b[0m                         Traceback (most recent call last)",
      "File \u001b[1;32mc:\\Users\\ASUS\\AppData\\Local\\Programs\\Python\\Python311\\Lib\\site-packages\\instagrapi\\mixins\\private.py:520\u001b[0m, in \u001b[0;36mPrivateRequestMixin.private_request\u001b[1;34m(self, endpoint, data, params, login, with_signature, headers, extra_sig, domain)\u001b[0m\n\u001b[0;32m    519\u001b[0m     \u001b[39mself\u001b[39m\u001b[39m.\u001b[39mprivate_requests_count \u001b[39m+\u001b[39m\u001b[39m=\u001b[39m \u001b[39m1\u001b[39m\n\u001b[1;32m--> 520\u001b[0m     \u001b[39mself\u001b[39;49m\u001b[39m.\u001b[39;49m_send_private_request(endpoint, \u001b[39m*\u001b[39;49m\u001b[39m*\u001b[39;49mkwargs)\n\u001b[0;32m    521\u001b[0m \u001b[39mexcept\u001b[39;00m ClientRequestTimeout:\n",
      "File \u001b[1;32mc:\\Users\\ASUS\\AppData\\Local\\Programs\\Python\\Python311\\Lib\\site-packages\\instagrapi\\mixins\\private.py:391\u001b[0m, in \u001b[0;36mPrivateRequestMixin._send_private_request\u001b[1;34m(self, endpoint, data, params, login, with_signature, headers, extra_sig, domain)\u001b[0m\n\u001b[0;32m    390\u001b[0m \u001b[39mif\u001b[39;00m message \u001b[39m==\u001b[39m \u001b[39m\"\u001b[39m\u001b[39mchallenge_required\u001b[39m\u001b[39m\"\u001b[39m:\n\u001b[1;32m--> 391\u001b[0m     \u001b[39mraise\u001b[39;00m ChallengeRequired(\u001b[39m*\u001b[39m\u001b[39m*\u001b[39mlast_json)\n\u001b[0;32m    392\u001b[0m \u001b[39melif\u001b[39;00m message \u001b[39m==\u001b[39m \u001b[39m\"\u001b[39m\u001b[39mfeedback_required\u001b[39m\u001b[39m\"\u001b[39m:\n",
      "\u001b[1;31mChallengeRequired\u001b[0m: challenge_required",
      "\nDuring handling of the above exception, another exception occurred:\n",
      "\u001b[1;31mHTTPError\u001b[0m                                 Traceback (most recent call last)",
      "File \u001b[1;32mc:\\Users\\ASUS\\AppData\\Local\\Programs\\Python\\Python311\\Lib\\site-packages\\instagrapi\\mixins\\private.py:360\u001b[0m, in \u001b[0;36mPrivateRequestMixin._send_private_request\u001b[1;34m(self, endpoint, data, params, login, with_signature, headers, extra_sig, domain)\u001b[0m\n\u001b[0;32m    359\u001b[0m \u001b[39mself\u001b[39m\u001b[39m.\u001b[39mlast_response \u001b[39m=\u001b[39m response\n\u001b[1;32m--> 360\u001b[0m response\u001b[39m.\u001b[39;49mraise_for_status()\n\u001b[0;32m    361\u001b[0m \u001b[39m# last_json - for Sentry context in traceback\u001b[39;00m\n",
      "File \u001b[1;32mc:\\Users\\ASUS\\AppData\\Local\\Programs\\Python\\Python311\\Lib\\site-packages\\requests\\models.py:1021\u001b[0m, in \u001b[0;36mResponse.raise_for_status\u001b[1;34m(self)\u001b[0m\n\u001b[0;32m   1020\u001b[0m \u001b[39mif\u001b[39;00m http_error_msg:\n\u001b[1;32m-> 1021\u001b[0m     \u001b[39mraise\u001b[39;00m HTTPError(http_error_msg, response\u001b[39m=\u001b[39m\u001b[39mself\u001b[39m)\n",
      "\u001b[1;31mHTTPError\u001b[0m: 400 Client Error: Bad Request for url: https://i.instagram.com/api/v1/feed/reels_tray/",
      "\nDuring handling of the above exception, another exception occurred:\n",
      "\u001b[1;31mChallengeRequired\u001b[0m                         Traceback (most recent call last)",
      "\u001b[1;32mc:\\Users\\ASUS\\Documents\\Coding\\Phyton\\AJS\\Community Detection\\instaDetection.ipynb Cell 3\u001b[0m in \u001b[0;36m5\n\u001b[0;32m      <a href='vscode-notebook-cell:/c%3A/Users/ASUS/Documents/Coding/Phyton/AJS/Community%20Detection/instaDetection.ipynb#W1sZmlsZQ%3D%3D?line=1'>2</a>\u001b[0m password \u001b[39m=\u001b[39m \u001b[39m'\u001b[39m\u001b[39mForfunonly16\u001b[39m\u001b[39m'\u001b[39m\n\u001b[0;32m      <a href='vscode-notebook-cell:/c%3A/Users/ASUS/Documents/Coding/Phyton/AJS/Community%20Detection/instaDetection.ipynb#W1sZmlsZQ%3D%3D?line=3'>4</a>\u001b[0m api \u001b[39m=\u001b[39m Client()\n\u001b[1;32m----> <a href='vscode-notebook-cell:/c%3A/Users/ASUS/Documents/Coding/Phyton/AJS/Community%20Detection/instaDetection.ipynb#W1sZmlsZQ%3D%3D?line=4'>5</a>\u001b[0m api\u001b[39m.\u001b[39;49mlogin(username, password)\n",
      "File \u001b[1;32mc:\\Users\\ASUS\\AppData\\Local\\Programs\\Python\\Python311\\Lib\\site-packages\\instagrapi\\mixins\\auth.py:434\u001b[0m, in \u001b[0;36mLoginMixin.login\u001b[1;34m(self, username, password, relogin, verification_code)\u001b[0m\n\u001b[0;32m    430\u001b[0m     \u001b[39mself\u001b[39m\u001b[39m.\u001b[39mauthorization_data \u001b[39m=\u001b[39m \u001b[39mself\u001b[39m\u001b[39m.\u001b[39mparse_authorization(\n\u001b[0;32m    431\u001b[0m         \u001b[39mself\u001b[39m\u001b[39m.\u001b[39mlast_response\u001b[39m.\u001b[39mheaders\u001b[39m.\u001b[39mget(\u001b[39m\"\u001b[39m\u001b[39mig-set-authorization\u001b[39m\u001b[39m\"\u001b[39m)\n\u001b[0;32m    432\u001b[0m     )\n\u001b[0;32m    433\u001b[0m \u001b[39mif\u001b[39;00m logged:\n\u001b[1;32m--> 434\u001b[0m     \u001b[39mself\u001b[39;49m\u001b[39m.\u001b[39;49mlogin_flow()\n\u001b[0;32m    435\u001b[0m     \u001b[39mself\u001b[39m\u001b[39m.\u001b[39mlast_login \u001b[39m=\u001b[39m time\u001b[39m.\u001b[39mtime()\n\u001b[0;32m    436\u001b[0m     \u001b[39mreturn\u001b[39;00m \u001b[39mTrue\u001b[39;00m\n",
      "File \u001b[1;32mc:\\Users\\ASUS\\AppData\\Local\\Programs\\Python\\Python311\\Lib\\site-packages\\instagrapi\\mixins\\auth.py:170\u001b[0m, in \u001b[0;36mPostLoginFlowMixin.login_flow\u001b[1;34m(self)\u001b[0m\n\u001b[0;32m    167\u001b[0m check_flow \u001b[39m=\u001b[39m []\n\u001b[0;32m    168\u001b[0m \u001b[39m# chance = random.randint(1, 100) % 2 == 0\u001b[39;00m\n\u001b[0;32m    169\u001b[0m \u001b[39m# reason = \"pull_to_refresh\" if chance else \"cold_start\"\u001b[39;00m\n\u001b[1;32m--> 170\u001b[0m check_flow\u001b[39m.\u001b[39mappend(\u001b[39mself\u001b[39;49m\u001b[39m.\u001b[39;49mget_reels_tray_feed(\u001b[39m\"\u001b[39;49m\u001b[39mcold_start\u001b[39;49m\u001b[39m\"\u001b[39;49m))\n\u001b[0;32m    171\u001b[0m check_flow\u001b[39m.\u001b[39mappend(\u001b[39mself\u001b[39m\u001b[39m.\u001b[39mget_timeline_feed([\u001b[39m\"\u001b[39m\u001b[39mcold_start_fetch\u001b[39m\u001b[39m\"\u001b[39m]))\n\u001b[0;32m    172\u001b[0m \u001b[39mreturn\u001b[39;00m \u001b[39mall\u001b[39m(check_flow)\n",
      "File \u001b[1;32mc:\\Users\\ASUS\\AppData\\Local\\Programs\\Python\\Python311\\Lib\\site-packages\\instagrapi\\mixins\\auth.py:247\u001b[0m, in \u001b[0;36mPostLoginFlowMixin.get_reels_tray_feed\u001b[1;34m(self, reason)\u001b[0m\n\u001b[0;32m    223\u001b[0m \u001b[39m\"\"\"\u001b[39;00m\n\u001b[0;32m    224\u001b[0m \u001b[39mGet your reels tray feed\u001b[39;00m\n\u001b[0;32m    225\u001b[0m \n\u001b[1;32m   (...)\u001b[0m\n\u001b[0;32m    234\u001b[0m \u001b[39m    A dictionary of response from the call\u001b[39;00m\n\u001b[0;32m    235\u001b[0m \u001b[39m\"\"\"\u001b[39;00m\n\u001b[0;32m    236\u001b[0m data \u001b[39m=\u001b[39m {\n\u001b[0;32m    237\u001b[0m     \u001b[39m\"\u001b[39m\u001b[39msupported_capabilities_new\u001b[39m\u001b[39m\"\u001b[39m: config\u001b[39m.\u001b[39mSUPPORTED_CAPABILITIES,\n\u001b[0;32m    238\u001b[0m     \u001b[39m\"\u001b[39m\u001b[39mreason\u001b[39m\u001b[39m\"\u001b[39m: reason,\n\u001b[1;32m   (...)\u001b[0m\n\u001b[0;32m    245\u001b[0m     \u001b[39m\"\u001b[39m\u001b[39m_uuid\u001b[39m\u001b[39m\"\u001b[39m: \u001b[39mself\u001b[39m\u001b[39m.\u001b[39muuid,\n\u001b[0;32m    246\u001b[0m }\n\u001b[1;32m--> 247\u001b[0m \u001b[39mreturn\u001b[39;00m \u001b[39mself\u001b[39;49m\u001b[39m.\u001b[39;49mprivate_request(\u001b[39m\"\u001b[39;49m\u001b[39mfeed/reels_tray/\u001b[39;49m\u001b[39m\"\u001b[39;49m, data)\n",
      "File \u001b[1;32mc:\\Users\\ASUS\\AppData\\Local\\Programs\\Python\\Python311\\Lib\\site-packages\\instagrapi\\mixins\\private.py:539\u001b[0m, in \u001b[0;36mPrivateRequestMixin.private_request\u001b[1;34m(self, endpoint, data, params, login, with_signature, headers, extra_sig, domain)\u001b[0m\n\u001b[0;32m    536\u001b[0m     \u001b[39mif\u001b[39;00m login \u001b[39mand\u001b[39;00m \u001b[39mself\u001b[39m\u001b[39m.\u001b[39muser_id:\n\u001b[0;32m    537\u001b[0m         \u001b[39m# After challenge resolve return last_json\u001b[39;00m\n\u001b[0;32m    538\u001b[0m         \u001b[39mreturn\u001b[39;00m \u001b[39mself\u001b[39m\u001b[39m.\u001b[39mlast_json\n\u001b[1;32m--> 539\u001b[0m     \u001b[39mreturn\u001b[39;00m \u001b[39mself\u001b[39;49m\u001b[39m.\u001b[39;49m_send_private_request(endpoint, \u001b[39m*\u001b[39;49m\u001b[39m*\u001b[39;49mkwargs)\n\u001b[0;32m    540\u001b[0m \u001b[39mreturn\u001b[39;00m \u001b[39mself\u001b[39m\u001b[39m.\u001b[39mlast_json\n",
      "File \u001b[1;32mc:\\Users\\ASUS\\AppData\\Local\\Programs\\Python\\Python311\\Lib\\site-packages\\instagrapi\\mixins\\private.py:391\u001b[0m, in \u001b[0;36mPrivateRequestMixin._send_private_request\u001b[1;34m(self, endpoint, data, params, login, with_signature, headers, extra_sig, domain)\u001b[0m\n\u001b[0;32m    389\u001b[0m error_type \u001b[39m=\u001b[39m last_json\u001b[39m.\u001b[39mget(\u001b[39m\"\u001b[39m\u001b[39merror_type\u001b[39m\u001b[39m\"\u001b[39m)\n\u001b[0;32m    390\u001b[0m \u001b[39mif\u001b[39;00m message \u001b[39m==\u001b[39m \u001b[39m\"\u001b[39m\u001b[39mchallenge_required\u001b[39m\u001b[39m\"\u001b[39m:\n\u001b[1;32m--> 391\u001b[0m     \u001b[39mraise\u001b[39;00m ChallengeRequired(\u001b[39m*\u001b[39m\u001b[39m*\u001b[39mlast_json)\n\u001b[0;32m    392\u001b[0m \u001b[39melif\u001b[39;00m message \u001b[39m==\u001b[39m \u001b[39m\"\u001b[39m\u001b[39mfeedback_required\u001b[39m\u001b[39m\"\u001b[39m:\n\u001b[0;32m    393\u001b[0m     \u001b[39mraise\u001b[39;00m FeedbackRequired(\n\u001b[0;32m    394\u001b[0m         \u001b[39m*\u001b[39m\u001b[39m*\u001b[39m\u001b[39mdict\u001b[39m(\n\u001b[0;32m    395\u001b[0m             last_json,\n\u001b[1;32m   (...)\u001b[0m\n\u001b[0;32m    398\u001b[0m         )\n\u001b[0;32m    399\u001b[0m     )\n",
      "\u001b[1;31mChallengeRequired\u001b[0m: challenge_required"
     ]
    }
   ],
   "source": [
    "username = 'tantaaattt'\n",
    "password = 'Forfunonly16'\n",
    "\n",
    "api = Client()\n",
    "api.login(username, password)\n"
   ]
  }
 ],
 "metadata": {
  "kernelspec": {
   "display_name": "Python 3",
   "language": "python",
   "name": "python3"
  },
  "language_info": {
   "codemirror_mode": {
    "name": "ipython",
    "version": 3
   },
   "file_extension": ".py",
   "mimetype": "text/x-python",
   "name": "python",
   "nbconvert_exporter": "python",
   "pygments_lexer": "ipython3",
   "version": "3.11.0"
  },
  "orig_nbformat": 4
 },
 "nbformat": 4,
 "nbformat_minor": 2
}
